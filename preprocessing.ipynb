{
 "cells": [
  {
   "cell_type": "code",
   "execution_count": 2,
   "metadata": {},
   "outputs": [],
   "source": [
    "import os\n",
    "import numpy as np\n",
    "import pandas as pd\n",
    "import torch\n",
    "import random\n",
    "import re\n",
    "\n",
    "from tqdm import tqdm\n",
    "from itertools import combinations\n",
    "from collections import deque\n",
    "from transformers import AutoTokenizer\n",
    "# from transformers import AutoModel, AutoModelForSequenceClassification\n",
    "# from datasets import load_dataset, load_metric\n",
    "# from rank_bm25 import BM25Okapi\n",
    "from sklearn.model_selection import train_test_split"
   ]
  },
  {
   "cell_type": "markdown",
   "metadata": {},
   "source": [
    "BM25: 키워드 기반 랭킹 알고리즘\n",
    "+ 주어진 쿼리에 대해 문서와의 연관성을 평가하는 랭킹 함수\n",
    "+ Bag-of-words 개념을 사용하여 쿼리에 있는 용어가 각각의 문서에 얼마나 자주 등장하는지를 평가\n",
    "    + 이때 IDF값을 곱해서 자주 등장하지 않는 단어에 더 큰 가중치를 줌."
   ]
  },
  {
   "cell_type": "code",
   "execution_count": 3,
   "metadata": {},
   "outputs": [],
   "source": [
    "def preprocess_script(script):\n",
    "    new_script = deque()\n",
    "    with open(script, 'r', encoding = 'utf-8') as file:\n",
    "        lines = file.readlines()\n",
    "        for line in lines:\n",
    "            if line.lstrip().startswith('#'): # 주석으로 시작하는 행 skip\n",
    "                continue\n",
    "            line = line.rstrip()\n",
    "            if '#' in line:\n",
    "                line = line[:line.index('#')] # 주석 전까지 코드만 저장\n",
    "            line = line.replace('\\n', '') # 개행 문자를 모두 삭제\n",
    "            line = line.replace('    ', '\\t') # 공백 4칸을 tab으로 변환\n",
    "            \n",
    "            if line == '' : # 전처리 후 빈 라인은 skip\n",
    "                continue\n",
    "            \n",
    "            new_script.append(line)\n",
    "            \n",
    "        new_script = '\\n'.join(new_script) # 줄 마다 읽은 것을 개행 문자로 합침\n",
    "        new_script = re.sub('(\"\"\"[\\w\\W]*?\"\"\")', '<str>', new_script)\n",
    "        new_script = re.sub(\"('''[\\w\\W]*?''')\", '<str>', new_script)\n",
    "        new_script = re.sub('/^(http?|https?):\\/\\/([a-z0-9-]+\\.)+[a-z0-9]{2,4}.*$/', '', new_script)\n",
    "        \n",
    "    return new_script\n",
    "        "
   ]
  },
  {
   "cell_type": "code",
   "execution_count": 4,
   "metadata": {},
   "outputs": [
    {
     "name": "stdout",
     "output_type": "stream",
     "text": [
      "Seed set as 42\n"
     ]
    }
   ],
   "source": [
    "def seed_everything(seed=42):\n",
    "  random.seed(seed)\n",
    "  np.random.seed(seed)\n",
    "  torch.backends.cudnn.deterministic = True\n",
    "  torch.backends.cudnn.benchmark = False\n",
    "  torch.manual_seed(seed)\n",
    "  torch.cuda.manual_seed(seed)\n",
    "  torch.cuda.manual_seed_all(seed)\n",
    "  print(f\"Seed set as {seed}\")\n",
    "\n",
    "seed_everything(42)"
   ]
  },
  {
   "cell_type": "code",
   "execution_count": 26,
   "metadata": {},
   "outputs": [
    {
     "name": "stderr",
     "output_type": "stream",
     "text": [
      "  0%|          | 0/300 [00:00<?, ?it/s]"
     ]
    },
    {
     "name": "stderr",
     "output_type": "stream",
     "text": [
      "100%|██████████| 300/300 [01:00<00:00,  4.96it/s]\n"
     ]
    }
   ],
   "source": [
    "code_folder = './code'\n",
    "problem_folders = os.listdir(code_folder) # code 안의 폴더 list를 반환\n",
    "\n",
    "preprocess_scripts = []\n",
    "problem_nums = []\n",
    "\n",
    "# 300개 Sample code 에 대한 전처리\n",
    "for problem_folder in tqdm(problem_folders):\n",
    "    scripts = os.listdir(os.path.join(code_folder, problem_folder)) # code/problem000/.py 파일\n",
    "    problem_num = problem_folder # 문제 번호 폴더명\n",
    "    for script in scripts:\n",
    "        script_file = os.path.join(code_folder, problem_folder, script)\n",
    "        preprocessed_script = preprocess_script(script_file)\n",
    "        \n",
    "        preprocess_scripts.append(preprocessed_script)\n",
    "    \n",
    "    # 번호 목록을 만들어서 전처리한 dataframe 에 함께 넣어줌\n",
    "    problem_nums.extend([problem_num]*len(scripts))"
   ]
  },
  {
   "cell_type": "code",
   "execution_count": 27,
   "metadata": {},
   "outputs": [
    {
     "data": {
      "text/plain": [
       "(45101, 45101)"
      ]
     },
     "execution_count": 27,
     "metadata": {},
     "output_type": "execute_result"
    }
   ],
   "source": [
    "len(preprocess_scripts), len(problem_nums)"
   ]
  },
  {
   "cell_type": "code",
   "execution_count": 29,
   "metadata": {},
   "outputs": [
    {
     "data": {
      "text/html": [
       "<div>\n",
       "<style scoped>\n",
       "    .dataframe tbody tr th:only-of-type {\n",
       "        vertical-align: middle;\n",
       "    }\n",
       "\n",
       "    .dataframe tbody tr th {\n",
       "        vertical-align: top;\n",
       "    }\n",
       "\n",
       "    .dataframe thead th {\n",
       "        text-align: right;\n",
       "    }\n",
       "</style>\n",
       "<table border=\"1\" class=\"dataframe\">\n",
       "  <thead>\n",
       "    <tr style=\"text-align: right;\">\n",
       "      <th></th>\n",
       "      <th>code</th>\n",
       "      <th>problem_num</th>\n",
       "    </tr>\n",
       "  </thead>\n",
       "  <tbody>\n",
       "    <tr>\n",
       "      <th>0</th>\n",
       "      <td>M = 9\\nN = 9\\ndef main():\\n\\tfor i in range(1,...</td>\n",
       "      <td>problem001</td>\n",
       "    </tr>\n",
       "    <tr>\n",
       "      <th>1</th>\n",
       "      <td>list1 = range(1,10)\\nlist2 = list1\\nfor i in l...</td>\n",
       "      <td>problem001</td>\n",
       "    </tr>\n",
       "    <tr>\n",
       "      <th>2</th>\n",
       "      <td>for x in range(1, 10):\\n\\tfor y in range(1, 10...</td>\n",
       "      <td>problem001</td>\n",
       "    </tr>\n",
       "    <tr>\n",
       "      <th>3</th>\n",
       "      <td>for i in range(1,10):\\n\\tfor n in range(1, 10)...</td>\n",
       "      <td>problem001</td>\n",
       "    </tr>\n",
       "    <tr>\n",
       "      <th>4</th>\n",
       "      <td>for i in range(1,10):\\n\\tfor k in range(1,10):...</td>\n",
       "      <td>problem001</td>\n",
       "    </tr>\n",
       "    <tr>\n",
       "      <th>...</th>\n",
       "      <td>...</td>\n",
       "      <td>...</td>\n",
       "    </tr>\n",
       "    <tr>\n",
       "      <th>45096</th>\n",
       "      <td>def prime_factorize(n):\\n\\ta = [1]\\n\\twhile n ...</td>\n",
       "      <td>problem300</td>\n",
       "    </tr>\n",
       "    <tr>\n",
       "      <th>45097</th>\n",
       "      <td>import math\\nA,B = map(int,input().split())\\ng...</td>\n",
       "      <td>problem300</td>\n",
       "    </tr>\n",
       "    <tr>\n",
       "      <th>45098</th>\n",
       "      <td>def prime_factorization(n):\\n\\ttable = []\\n\\tf...</td>\n",
       "      <td>problem300</td>\n",
       "    </tr>\n",
       "    <tr>\n",
       "      <th>45099</th>\n",
       "      <td>import fractions\\nimport math\\ndef primefac(n)...</td>\n",
       "      <td>problem300</td>\n",
       "    </tr>\n",
       "    <tr>\n",
       "      <th>45100</th>\n",
       "      <td>from math import gcd\\nfrom itertools import co...</td>\n",
       "      <td>problem300</td>\n",
       "    </tr>\n",
       "  </tbody>\n",
       "</table>\n",
       "<p>45101 rows × 2 columns</p>\n",
       "</div>"
      ],
      "text/plain": [
       "                                                    code problem_num\n",
       "0      M = 9\\nN = 9\\ndef main():\\n\\tfor i in range(1,...  problem001\n",
       "1      list1 = range(1,10)\\nlist2 = list1\\nfor i in l...  problem001\n",
       "2      for x in range(1, 10):\\n\\tfor y in range(1, 10...  problem001\n",
       "3      for i in range(1,10):\\n\\tfor n in range(1, 10)...  problem001\n",
       "4      for i in range(1,10):\\n\\tfor k in range(1,10):...  problem001\n",
       "...                                                  ...         ...\n",
       "45096  def prime_factorize(n):\\n\\ta = [1]\\n\\twhile n ...  problem300\n",
       "45097  import math\\nA,B = map(int,input().split())\\ng...  problem300\n",
       "45098  def prime_factorization(n):\\n\\ttable = []\\n\\tf...  problem300\n",
       "45099  import fractions\\nimport math\\ndef primefac(n)...  problem300\n",
       "45100  from math import gcd\\nfrom itertools import co...  problem300\n",
       "\n",
       "[45101 rows x 2 columns]"
      ]
     },
     "execution_count": 29,
     "metadata": {},
     "output_type": "execute_result"
    }
   ],
   "source": [
    "df = pd.DataFrame(data= {'code':preprocess_scripts, 'problem_num': problem_nums})\n",
    "df"
   ]
  },
  {
   "cell_type": "markdown",
   "metadata": {},
   "source": [
    "\n",
    "### Create Data set"
   ]
  },
  {
   "cell_type": "markdown",
   "metadata": {},
   "source": [
    "#### Tokenizer 수행, microsoft에서 개발한 사전 학습 모델인 graphcodebert 사용"
   ]
  },
  {
   "cell_type": "code",
   "execution_count": 31,
   "metadata": {},
   "outputs": [],
   "source": [
    "# AutoTokenizer로 graphcodebert 사용\n",
    "tokenizer = AutoTokenizer.from_pretrained('microsoft/graphcodebert-base')\n",
    "tokenizer.truncation_side = 'left'\n",
    "MAX_LEN = 512"
   ]
  },
  {
   "cell_type": "code",
   "execution_count": 32,
   "metadata": {},
   "outputs": [],
   "source": [
    "tokens = []\n",
    "for code in df['code']:\n",
    "    tokens.append(tokenizer.tokenize(code, max_length = MAX_LEN, truncation = True))\n",
    "    \n",
    "df['tokens'] = tokens # Sample code를 Tokenization 해서 tokens 컬럼에 추가\n",
    "df['len'] = df['tokens'].apply(len) # tokens의 길이를 len 컬럼에 추가"
   ]
  },
  {
   "cell_type": "code",
   "execution_count": 33,
   "metadata": {},
   "outputs": [],
   "source": [
    "# train, valid set 분리\n",
    "train_df, valid_df, train_label, valid_label = train_test_split(df, df['problem_num'], random_state=42, \n",
    "                                                                test_size = 0.1, stratify = df['problem_num'])\n",
    "\n",
    "train_df = train_df.reset_index(drop=True) # Reindexing\n",
    "valid_df = valid_df.reset_index(drop=True)"
   ]
  },
  {
   "cell_type": "code",
   "execution_count": 35,
   "metadata": {},
   "outputs": [
    {
     "data": {
      "text/html": [
       "<div>\n",
       "<style scoped>\n",
       "    .dataframe tbody tr th:only-of-type {\n",
       "        vertical-align: middle;\n",
       "    }\n",
       "\n",
       "    .dataframe tbody tr th {\n",
       "        vertical-align: top;\n",
       "    }\n",
       "\n",
       "    .dataframe thead th {\n",
       "        text-align: right;\n",
       "    }\n",
       "</style>\n",
       "<table border=\"1\" class=\"dataframe\">\n",
       "  <thead>\n",
       "    <tr style=\"text-align: right;\">\n",
       "      <th></th>\n",
       "      <th>code</th>\n",
       "      <th>problem_num</th>\n",
       "      <th>tokens</th>\n",
       "      <th>len</th>\n",
       "    </tr>\n",
       "  </thead>\n",
       "  <tbody>\n",
       "    <tr>\n",
       "      <th>0</th>\n",
       "      <td>h,w,n = [int(input()) for i in range(3)]\\nprin...</td>\n",
       "      <td>problem236</td>\n",
       "      <td>[h, ,, w, ,, n, Ġ=, Ġ[, int, (, input, ()), Ġf...</td>\n",
       "      <td>34</td>\n",
       "    </tr>\n",
       "    <tr>\n",
       "      <th>1</th>\n",
       "      <td>join,rate=map(int,input().split())\\nif join&gt;=1...</td>\n",
       "      <td>problem211</td>\n",
       "      <td>[join, ,, rate, =, map, (, int, ,, input, ().,...</td>\n",
       "      <td>41</td>\n",
       "    </tr>\n",
       "    <tr>\n",
       "      <th>2</th>\n",
       "      <td>n, k = map(int, input().split())\\nh = sorted(l...</td>\n",
       "      <td>problem227</td>\n",
       "      <td>[n, ,, Ġk, Ġ=, Ġmap, (, int, ,, Ġinput, ()., s...</td>\n",
       "      <td>46</td>\n",
       "    </tr>\n",
       "    <tr>\n",
       "      <th>3</th>\n",
       "      <td>N = int(input())\\na_list = list(map(int, input...</td>\n",
       "      <td>problem257</td>\n",
       "      <td>[N, Ġ=, Ġint, (, input, ()), Ċ, a, _, list, Ġ=...</td>\n",
       "      <td>87</td>\n",
       "    </tr>\n",
       "    <tr>\n",
       "      <th>4</th>\n",
       "      <td>N=int(input())\\nD=[{} for _ in range(N+1)]\\nfo...</td>\n",
       "      <td>problem262</td>\n",
       "      <td>[N, =, int, (, input, ()), Ċ, D, =[, {, }, Ġfo...</td>\n",
       "      <td>218</td>\n",
       "    </tr>\n",
       "  </tbody>\n",
       "</table>\n",
       "</div>"
      ],
      "text/plain": [
       "                                                code problem_num  \\\n",
       "0  h,w,n = [int(input()) for i in range(3)]\\nprin...  problem236   \n",
       "1  join,rate=map(int,input().split())\\nif join>=1...  problem211   \n",
       "2  n, k = map(int, input().split())\\nh = sorted(l...  problem227   \n",
       "3  N = int(input())\\na_list = list(map(int, input...  problem257   \n",
       "4  N=int(input())\\nD=[{} for _ in range(N+1)]\\nfo...  problem262   \n",
       "\n",
       "                                              tokens  len  \n",
       "0  [h, ,, w, ,, n, Ġ=, Ġ[, int, (, input, ()), Ġf...   34  \n",
       "1  [join, ,, rate, =, map, (, int, ,, input, ().,...   41  \n",
       "2  [n, ,, Ġk, Ġ=, Ġmap, (, int, ,, Ġinput, ()., s...   46  \n",
       "3  [N, Ġ=, Ġint, (, input, ()), Ċ, a, _, list, Ġ=...   87  \n",
       "4  [N, =, int, (, input, ()), Ċ, D, =[, {, }, Ġfo...  218  "
      ]
     },
     "execution_count": 35,
     "metadata": {},
     "output_type": "execute_result"
    }
   ],
   "source": [
    "train_df.head()"
   ]
  },
  {
   "cell_type": "markdown",
   "metadata": {},
   "source": [
    "#### Create Level 1 dataset"
   ]
  },
  {
   "cell_type": "code",
   "execution_count": 38,
   "metadata": {},
   "outputs": [],
   "source": [
    "codes = train_df['code'].to_list() # code 컬럼을 list로 변환 - codes 는 code 가 쭉 나열된 상태\n",
    "problems = train_df['problem_num'].unique().tolist() # 문제 번호를 중복을 제외하고 list로 변환\n",
    "problems.sort()"
   ]
  },
  {
   "cell_type": "code",
   "execution_count": 41,
   "metadata": {},
   "outputs": [],
   "source": [
    "total_positive_pairs = []\n",
    "total_negative_pairs = []"
   ]
  },
  {
   "cell_type": "code",
   "execution_count": 66,
   "metadata": {},
   "outputs": [
    {
     "name": "stderr",
     "output_type": "stream",
     "text": [
      "  0%|          | 0/300 [00:00<?, ?it/s]"
     ]
    },
    {
     "name": "stderr",
     "output_type": "stream",
     "text": [
      "100%|██████████| 300/300 [01:04<00:00,  4.68it/s]\n"
     ]
    }
   ],
   "source": [
    "for problem in tqdm(problems):\n",
    "    # 각각의 문제에 대한 code를 골라 정답 코드로 저장, 아닌 문제는 other_codes 로 저장\n",
    "    # 이때 train_df 에는 problem_num 이 정렬된 상태가 아니기 때문에 index가 다를 수 있음\n",
    "    solution_codes = train_df[train_df['problem_num'] == problem]['code'].to_list()\n",
    "    other_codes = train_df[train_df['problem_num'] != problem]['code'].to_list()\n",
    "    \n",
    "    # positive_pairs 1000개 (총 300 * 1000 = 300,000개)\n",
    "    # negative_paris 1000개 (총 300 * 1000 = 300,000개)\n",
    "    positive_pairs = list(combinations(solution_codes, 2))\n",
    "    random.shuffle(positive_pairs)\n",
    "    random.shuffle(other_codes)\n",
    "    positive_pairs = positive_pairs[:1000]\n",
    "    other_codes = other_codes[:1000]\n",
    "    \n",
    "    negative_pairs = []\n",
    "    for pos_codes, others in zip(positive_pairs, other_codes):\n",
    "        negative_pairs.append((pos_codes[0], others))\n",
    "        \n",
    "    total_positive_pairs.extend(positive_pairs)\n",
    "    total_negative_pairs.extend(negative_pairs)"
   ]
  },
  {
   "cell_type": "code",
   "execution_count": 70,
   "metadata": {},
   "outputs": [],
   "source": [
    "# total_positive_pairs 와 negative_pairs 의 정답 코드를 묶어 code1로 지정\n",
    "# total_positive_pairs 와 negative_pairs 의 비교 대상 코드를 묶어 code2로 지정\n",
    "# 해당 코드에 맞는 label 설정\n",
    "code1 = [code[0] for code in total_positive_pairs] + [code[0] for code in total_negative_pairs]\n",
    "code2 = [code[1] for code in total_positive_pairs] + [code[1] for code in total_negative_pairs]\n",
    "label = [1]*len(total_positive_pairs) + [0]*len(total_negative_pairs)\n",
    "\n",
    "# DataFrame 으로 선언\n",
    "train_data = pd.DataFrame(data = {'code1' : code1, 'code2' : code2, 'similar' : label})\n",
    "train_data = train_data.sample(frac=1).reset_index(drop=True) # frac: 추출할 표본 비율\n",
    "train_data.to_csv('train_data_lv1.csv', index = False)"
   ]
  },
  {
   "cell_type": "markdown",
   "metadata": {},
   "source": [
    "#### Validation data set"
   ]
  },
  {
   "cell_type": "code",
   "execution_count": 71,
   "metadata": {},
   "outputs": [],
   "source": [
    "codes = valid_df['code'].to_list() # code 컬럼을 list로 변환 - codes 는 code가 쭉 나열된 형태\n",
    "problems = valid_df['problem_num'].unique().tolist() # 문제 번호를 중복을 제외하고 list로 변환\n",
    "problems.sort()"
   ]
  },
  {
   "cell_type": "code",
   "execution_count": 72,
   "metadata": {},
   "outputs": [],
   "source": [
    "total_positive_pairs = []\n",
    "total_negative_pairs = []"
   ]
  },
  {
   "cell_type": "code",
   "execution_count": 73,
   "metadata": {},
   "outputs": [
    {
     "name": "stderr",
     "output_type": "stream",
     "text": [
      "100%|██████████| 300/300 [00:07<00:00, 42.17it/s]\n"
     ]
    }
   ],
   "source": [
    "for problem in tqdm(problems):\n",
    "    # 각각의 문제에 대한 code를 골라 정답 코드로 저장, 아닌 문제는 other_codes로 저장\n",
    "    # 이때 train_df에는 problem_num이 정렬된 상태가 아니기 때문에 index가 다를 수 있음\n",
    "    solution_codes = valid_df[valid_df['problem_num'] == problem]['code'].to_list()\n",
    "    other_codes = valid_df[valid_df['problem_num'] != problem]['code'].to_list()\n",
    "    \n",
    "    # positive_pairs 100개 (총 300 * 100 = 30,000개) 추출\n",
    "    # negative_pairs 100개 (총 300 * 100 = 30,000개) 추출\n",
    "    positive_pairs = list(combinations(solution_codes,2))\n",
    "    random.shuffle(positive_pairs)\n",
    "    positive_pairs = positive_pairs[:100]\n",
    "    random.shuffle(other_codes)\n",
    "    other_codes = other_codes[:100]\n",
    "    \n",
    "    negative_pairs = []\n",
    "    for pos_codes, others in zip(positive_pairs, other_codes):\n",
    "        negative_pairs.append((pos_codes[0], others))\n",
    "    \n",
    "    total_positive_pairs.extend(positive_pairs)\n",
    "    total_negative_pairs.extend(negative_pairs)"
   ]
  },
  {
   "cell_type": "code",
   "execution_count": 74,
   "metadata": {},
   "outputs": [],
   "source": [
    "# total_positive_pairs 와 negative_pairs 의 정답 코드를 묶어 codes1로 지정\n",
    "# total_positive_pairs 와 negative_pairs 의 비교 대상 코드를 묶어 code2로 지정\n",
    "# 해당 코드에 맞는 label 설정\n",
    "code1 = [code[0] for code in total_positive_pairs] + [code[0] for code in total_negative_pairs]\n",
    "code2 = [code[1] for code in total_positive_pairs] + [code[1] for code in total_negative_pairs]\n",
    "label = [1]*len(total_positive_pairs) + [0]*len(total_negative_pairs)\n",
    "\n",
    "# DataFrame으로 선언\n",
    "valid_data = pd.DataFrame(data={'code1':code1, 'code2':code2, 'similar':label})\n",
    "valid_data = valid_data.sample(frac=1).reset_index(drop=True) # frac: 추출할 표본 비율\n",
    "valid_data.to_csv('valid_data_lv1.csv',index=False)"
   ]
  },
  {
   "cell_type": "code",
   "execution_count": null,
   "metadata": {},
   "outputs": [],
   "source": []
  }
 ],
 "metadata": {
  "kernelspec": {
   "display_name": "base",
   "language": "python",
   "name": "python3"
  },
  "language_info": {
   "codemirror_mode": {
    "name": "ipython",
    "version": 3
   },
   "file_extension": ".py",
   "mimetype": "text/x-python",
   "name": "python",
   "nbconvert_exporter": "python",
   "pygments_lexer": "ipython3",
   "version": "3.10.9"
  }
 },
 "nbformat": 4,
 "nbformat_minor": 2
}
